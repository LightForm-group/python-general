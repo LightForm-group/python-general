{
 "cells": [
  {
   "cell_type": "code",
   "execution_count": 1,
   "metadata": {},
   "outputs": [],
   "source": [
    "import numpy as np"
   ]
  },
  {
   "cell_type": "markdown",
   "metadata": {},
   "source": [
    "# Scalar operations"
   ]
  },
  {
   "cell_type": "markdown",
   "metadata": {},
   "source": [
    "This is simply done with the multiplication operator (`*`) in Python, where one of the objects is a scalar and the other is a Numpy array.\n",
    "\n",
    "This is notated for a scalar $s$ and a matrix $A$ as:\n",
    "$$C = sA$$\n",
    "\n",
    "Scalar multiplication is commutative: $$C = sA = As$$\n",
    "\n",
    "Create example arrays:"
   ]
  },
  {
   "cell_type": "code",
   "execution_count": 2,
   "metadata": {},
   "outputs": [
    {
     "name": "stdout",
     "output_type": "stream",
     "text": [
      "a = \n",
      "[0 6 2]\n",
      "\n",
      "b = \n",
      "[[5 0 7 5]\n",
      " [6 7 0 1]]\n",
      "\n"
     ]
    }
   ],
   "source": [
    "a = np.random.randint(0,9,(3))\n",
    "b = np.random.randint(0,9,(2,4))\n",
    "\n",
    "print('a = \\n{}\\n'.format(a))\n",
    "print('b = \\n{}\\n'.format(b))"
   ]
  },
  {
   "cell_type": "markdown",
   "metadata": {},
   "source": [
    "Multiplication of each element in an array of any dimension is simply performed with the mulitplication symbol `*`:"
   ]
  },
  {
   "cell_type": "code",
   "execution_count": 3,
   "metadata": {},
   "outputs": [
    {
     "name": "stdout",
     "output_type": "stream",
     "text": [
      "r_1 = \n",
      "[ 0 12  4]\n",
      "\n",
      "r_2 = \n",
      "[[10  0 14 10]\n",
      " [12 14  0  2]]\n",
      "\n"
     ]
    }
   ],
   "source": [
    "s = 2\n",
    "r_1 = s * a\n",
    "r_2 = s * b\n",
    "\n",
    "print('r_1 = \\n{}\\n'.format(r_1))\n",
    "print('r_2 = \\n{}\\n'.format(r_2))"
   ]
  },
  {
   "cell_type": "markdown",
   "metadata": {},
   "source": [
    "# Operations on 1D arrays"
   ]
  },
  {
   "cell_type": "markdown",
   "metadata": {
    "collapsed": true
   },
   "source": [
    "Create example arrays:"
   ]
  },
  {
   "cell_type": "code",
   "execution_count": 4,
   "metadata": {},
   "outputs": [
    {
     "name": "stdout",
     "output_type": "stream",
     "text": [
      "a = \n",
      "[4 1 1 6]\n",
      "\n",
      "b = \n",
      "[1 7 4 5]\n",
      "\n"
     ]
    }
   ],
   "source": [
    "a = np.random.randint(0,9,(4))\n",
    "b = np.random.randint(0,9,(4))\n",
    "\n",
    "print('a = \\n{}\\n'.format(a))\n",
    "print('b = \\n{}\\n'.format(b))"
   ]
  },
  {
   "cell_type": "markdown",
   "metadata": {},
   "source": [
    "## Inner product of two vectors"
   ]
  },
  {
   "cell_type": "markdown",
   "metadata": {},
   "source": [
    "For two vectors $\\boldsymbol{a}$ and $\\boldsymbol{b}$, the inner (dot) product is the sum of the product of components. It is written as:\n",
    "\n",
    "$$c = \\sum_{i}a_ib_i$$\n",
    "\n",
    "In matrix notation, this is written as:\n",
    "\n",
    "$$c =\n",
    "\\begin{pmatrix}a_1, a_2, ..., a_n\\end{pmatrix}\n",
    "\\begin{pmatrix}b_1\\\\b_2\\\\...\\\\b_n\\end{pmatrix}\n",
    "$$"
   ]
  },
  {
   "cell_type": "markdown",
   "metadata": {
    "collapsed": true
   },
   "source": [
    "**Method 1: `for` loop**"
   ]
  },
  {
   "cell_type": "code",
   "execution_count": 5,
   "metadata": {
    "code_folding": []
   },
   "outputs": [
    {
     "data": {
      "text/plain": [
       "45"
      ]
     },
     "execution_count": 5,
     "metadata": {},
     "output_type": "execute_result"
    }
   ],
   "source": [
    "def inner_prod(a, b):\n",
    "    \n",
    "    total = 0\n",
    "    for i in range(len(a)):\n",
    "        total += a[i] * b[i]\n",
    "    \n",
    "    return total\n",
    "\n",
    "inner_prod(a,b)"
   ]
  },
  {
   "cell_type": "markdown",
   "metadata": {},
   "source": [
    "**Method 2: `np.dot()`**"
   ]
  },
  {
   "cell_type": "code",
   "execution_count": 6,
   "metadata": {},
   "outputs": [
    {
     "data": {
      "text/plain": [
       "45"
      ]
     },
     "execution_count": 6,
     "metadata": {},
     "output_type": "execute_result"
    }
   ],
   "source": [
    "np.dot(a,b)"
   ]
  },
  {
   "cell_type": "markdown",
   "metadata": {},
   "source": [
    "**Method 3: `np.einsum()`**"
   ]
  },
  {
   "cell_type": "code",
   "execution_count": 7,
   "metadata": {},
   "outputs": [
    {
     "data": {
      "text/plain": [
       "45"
      ]
     },
     "execution_count": 7,
     "metadata": {},
     "output_type": "execute_result"
    }
   ],
   "source": [
    "np.einsum('i,i',a,b)"
   ]
  },
  {
   "cell_type": "markdown",
   "metadata": {},
   "source": [
    "## Outer product of two vectors"
   ]
  },
  {
   "cell_type": "markdown",
   "metadata": {},
   "source": [
    "For two vectors $\\boldsymbol{a}$ and $\\boldsymbol{b}$, the outer product is written in matrix notation as:\n",
    "\n",
    "$$C = \n",
    "\\begin{pmatrix}a_1\\\\a_2\\\\\\vdots\\\\a_n\\end{pmatrix}\n",
    "\\begin{pmatrix}b_1, b_2, \\ldots, b_n\\end{pmatrix} =\n",
    "\\begin{pmatrix}\n",
    "a_1b_1 & a_1b_2 & \\ldots  &  a_1b_n \\\\\n",
    "a_2b_1 & \\ldots & \\ldots & \\ldots             \\\\\n",
    "\\ldots & \\ldots & \\ldots & \\ldots \\\\\n",
    "a_nb_1 & \\ldots & \\ldots & a_nb_n\n",
    "\\end{pmatrix}\n",
    "$$"
   ]
  },
  {
   "cell_type": "markdown",
   "metadata": {
    "collapsed": true
   },
   "source": [
    "**Method 1: `for` loops**"
   ]
  },
  {
   "cell_type": "code",
   "execution_count": 8,
   "metadata": {
    "code_folding": [
     0
    ]
   },
   "outputs": [
    {
     "data": {
      "text/plain": [
       "array([[ 4, 28, 16, 20],\n",
       "       [ 1,  7,  4,  5],\n",
       "       [ 1,  7,  4,  5],\n",
       "       [ 6, 42, 24, 30]])"
      ]
     },
     "execution_count": 8,
     "metadata": {},
     "output_type": "execute_result"
    }
   ],
   "source": [
    "def outer_prod(a,b):\n",
    "    c = np.empty((len(a), len(b)), dtype=a.dtype)\n",
    "    \n",
    "    for i in range(len(a)):\n",
    "        for j in range(len(b)):\n",
    "            c[i,j] = a[i] * b[j]\n",
    "            \n",
    "    return c\n",
    "\n",
    "outer_prod(a,b)"
   ]
  },
  {
   "cell_type": "markdown",
   "metadata": {},
   "source": [
    "**Method 2: `np.outer()`**"
   ]
  },
  {
   "cell_type": "code",
   "execution_count": 9,
   "metadata": {
    "scrolled": false
   },
   "outputs": [
    {
     "data": {
      "text/plain": [
       "array([[ 4, 28, 16, 20],\n",
       "       [ 1,  7,  4,  5],\n",
       "       [ 1,  7,  4,  5],\n",
       "       [ 6, 42, 24, 30]])"
      ]
     },
     "execution_count": 9,
     "metadata": {},
     "output_type": "execute_result"
    }
   ],
   "source": [
    "np.outer(a,b)"
   ]
  },
  {
   "cell_type": "markdown",
   "metadata": {},
   "source": [
    "**Method 3: `np.einsum()`**"
   ]
  },
  {
   "cell_type": "code",
   "execution_count": 10,
   "metadata": {},
   "outputs": [
    {
     "data": {
      "text/plain": [
       "array([[ 4, 28, 16, 20],\n",
       "       [ 1,  7,  4,  5],\n",
       "       [ 1,  7,  4,  5],\n",
       "       [ 6, 42, 24, 30]])"
      ]
     },
     "execution_count": 10,
     "metadata": {},
     "output_type": "execute_result"
    }
   ],
   "source": [
    "np.einsum('i,j->ij', a, b)"
   ]
  },
  {
   "cell_type": "markdown",
   "metadata": {},
   "source": [
    "## Cross product of two vectors"
   ]
  },
  {
   "cell_type": "markdown",
   "metadata": {
    "collapsed": true
   },
   "source": [
    "Cross product is defined for 2 and 3-dimensional vectors. Create example arrays:"
   ]
  },
  {
   "cell_type": "code",
   "execution_count": 11,
   "metadata": {},
   "outputs": [
    {
     "name": "stdout",
     "output_type": "stream",
     "text": [
      "a = \n",
      "[8 4 3]\n",
      "\n",
      "b = \n",
      "[7 3 0]\n",
      "\n"
     ]
    }
   ],
   "source": [
    "a = np.random.randint(0,9,(3))\n",
    "b = np.random.randint(0,9,(3))\n",
    "\n",
    "print('a = \\n{}\\n'.format(a))\n",
    "print('b = \\n{}\\n'.format(b))"
   ]
  },
  {
   "cell_type": "code",
   "execution_count": 12,
   "metadata": {},
   "outputs": [
    {
     "data": {
      "text/plain": [
       "array([-9, 21, -4])"
      ]
     },
     "execution_count": 12,
     "metadata": {},
     "output_type": "execute_result"
    }
   ],
   "source": [
    "np.cross(a,b)"
   ]
  },
  {
   "cell_type": "markdown",
   "metadata": {},
   "source": [
    "# Operations on 2D arrays"
   ]
  },
  {
   "cell_type": "markdown",
   "metadata": {},
   "source": [
    "Create example arrays:"
   ]
  },
  {
   "cell_type": "code",
   "execution_count": 47,
   "metadata": {},
   "outputs": [
    {
     "name": "stdout",
     "output_type": "stream",
     "text": [
      "a = \n",
      "[[1 3 0]]\n",
      "\n",
      "b = \n",
      "[[4]\n",
      " [7]\n",
      " [1]]\n",
      "\n",
      "A = \n",
      "[[6 0 7]\n",
      " [1 7 4]\n",
      " [6 7 7]]\n",
      "\n",
      "B = \n",
      "[[2 3 3]\n",
      " [0 3 2]\n",
      " [7 1 5]]\n",
      "\n"
     ]
    }
   ],
   "source": [
    "a = np.random.randint(0,9,(1,3))    # row vector\n",
    "b = np.random.randint(0,9,(3,1))    # col vector\n",
    "A = np.random.randint(0,9,(3,3))\n",
    "B = np.random.randint(0,9,(3,3))\n",
    "\n",
    "print('a = \\n{}\\n'.format(a))\n",
    "print('b = \\n{}\\n'.format(b))\n",
    "print('A = \\n{}\\n'.format(A))\n",
    "print('B = \\n{}\\n'.format(B))"
   ]
  },
  {
   "cell_type": "markdown",
   "metadata": {},
   "source": [
    "## Matrix product"
   ]
  },
  {
   "cell_type": "markdown",
   "metadata": {},
   "source": [
    "Define a function using to compute the matrix product of two 2D arrays using nested for loops:"
   ]
  },
  {
   "cell_type": "code",
   "execution_count": 48,
   "metadata": {
    "code_folding": []
   },
   "outputs": [],
   "source": [
    "def mat_mult(a,b):\n",
    "    \n",
    "    # output array has same number of rows as a and same number of columns as b\n",
    "    c = np.zeros((a.shape[0], b.shape[1]), dtype=a.dtype)\n",
    "    \n",
    "    for a_row in range(a.shape[0]):\n",
    "    \n",
    "        for b_col in range(b.shape[1]):\n",
    "\n",
    "            for a_col in range(a.shape[1]):\n",
    "\n",
    "                b_row = a_col                            \n",
    "                c[a_row, b_col] += (a[a_row, a_col] * b[b_row, b_col])            \n",
    "    \n",
    "    return c"
   ]
  },
  {
   "cell_type": "markdown",
   "metadata": {},
   "source": [
    "### Inner product of two vectors"
   ]
  },
  {
   "cell_type": "markdown",
   "metadata": {},
   "source": [
    "**Method 1: `for` loops**"
   ]
  },
  {
   "cell_type": "code",
   "execution_count": 49,
   "metadata": {
    "scrolled": true
   },
   "outputs": [
    {
     "data": {
      "text/plain": [
       "array([[25]])"
      ]
     },
     "execution_count": 49,
     "metadata": {},
     "output_type": "execute_result"
    }
   ],
   "source": [
    "mat_mult(a,b)"
   ]
  },
  {
   "cell_type": "markdown",
   "metadata": {},
   "source": [
    "**Method 2: `np.dot()`**"
   ]
  },
  {
   "cell_type": "code",
   "execution_count": 50,
   "metadata": {},
   "outputs": [
    {
     "data": {
      "text/plain": [
       "array([[25]])"
      ]
     },
     "execution_count": 50,
     "metadata": {},
     "output_type": "execute_result"
    }
   ],
   "source": [
    "np.dot(a,b)"
   ]
  },
  {
   "cell_type": "markdown",
   "metadata": {},
   "source": [
    "**Method 3: `np.einsum()`**"
   ]
  },
  {
   "cell_type": "code",
   "execution_count": 51,
   "metadata": {},
   "outputs": [
    {
     "data": {
      "text/plain": [
       "array([[25]])"
      ]
     },
     "execution_count": 51,
     "metadata": {},
     "output_type": "execute_result"
    }
   ],
   "source": [
    "np.einsum('ij,jk',a,b)"
   ]
  },
  {
   "cell_type": "markdown",
   "metadata": {},
   "source": [
    "**Method 4: `np.matmul()` - `@`**"
   ]
  },
  {
   "cell_type": "code",
   "execution_count": 52,
   "metadata": {},
   "outputs": [
    {
     "data": {
      "text/plain": [
       "array([[25]])"
      ]
     },
     "execution_count": 52,
     "metadata": {},
     "output_type": "execute_result"
    }
   ],
   "source": [
    "a @ b"
   ]
  },
  {
   "cell_type": "markdown",
   "metadata": {},
   "source": [
    "### Outer product of two vectors"
   ]
  },
  {
   "cell_type": "markdown",
   "metadata": {},
   "source": [
    "**Method 1: `for` loops**"
   ]
  },
  {
   "cell_type": "code",
   "execution_count": 53,
   "metadata": {
    "scrolled": true
   },
   "outputs": [
    {
     "data": {
      "text/plain": [
       "array([[ 4,  7,  1],\n",
       "       [12, 21,  3],\n",
       "       [ 0,  0,  0]])"
      ]
     },
     "execution_count": 53,
     "metadata": {},
     "output_type": "execute_result"
    }
   ],
   "source": [
    "mat_mult(a.T,b.T)"
   ]
  },
  {
   "cell_type": "markdown",
   "metadata": {},
   "source": [
    "**Method 2: `np.dot()` and `np.outer()`**"
   ]
  },
  {
   "cell_type": "code",
   "execution_count": 54,
   "metadata": {},
   "outputs": [
    {
     "data": {
      "text/plain": [
       "array([[ 4,  7,  1],\n",
       "       [12, 21,  3],\n",
       "       [ 0,  0,  0]])"
      ]
     },
     "execution_count": 54,
     "metadata": {},
     "output_type": "execute_result"
    }
   ],
   "source": [
    "np.dot(a.T,b.T)"
   ]
  },
  {
   "cell_type": "code",
   "execution_count": 55,
   "metadata": {},
   "outputs": [
    {
     "data": {
      "text/plain": [
       "array([[ 4,  7,  1],\n",
       "       [12, 21,  3],\n",
       "       [ 0,  0,  0]])"
      ]
     },
     "execution_count": 55,
     "metadata": {},
     "output_type": "execute_result"
    }
   ],
   "source": [
    "np.outer(a,b)"
   ]
  },
  {
   "cell_type": "markdown",
   "metadata": {},
   "source": [
    "**Method 3: `np.einsum()`**"
   ]
  },
  {
   "cell_type": "code",
   "execution_count": 56,
   "metadata": {},
   "outputs": [
    {
     "data": {
      "text/plain": [
       "array([[ 4,  7,  1],\n",
       "       [12, 21,  3],\n",
       "       [ 0,  0,  0]])"
      ]
     },
     "execution_count": 56,
     "metadata": {},
     "output_type": "execute_result"
    }
   ],
   "source": [
    "np.einsum('ij,kl->jk',a,b)"
   ]
  },
  {
   "cell_type": "markdown",
   "metadata": {},
   "source": [
    "**Method 4: `np.matmul()` - `@`**"
   ]
  },
  {
   "cell_type": "code",
   "execution_count": 57,
   "metadata": {},
   "outputs": [
    {
     "data": {
      "text/plain": [
       "array([[ 4,  7,  1],\n",
       "       [12, 21,  3],\n",
       "       [ 0,  0,  0]])"
      ]
     },
     "execution_count": 57,
     "metadata": {},
     "output_type": "execute_result"
    }
   ],
   "source": [
    "a.T @ b.T"
   ]
  },
  {
   "cell_type": "markdown",
   "metadata": {
    "collapsed": true
   },
   "source": [
    "### Matrix product of two matrices"
   ]
  },
  {
   "cell_type": "markdown",
   "metadata": {},
   "source": [
    "**Method 1: `for` loops**"
   ]
  },
  {
   "cell_type": "code",
   "execution_count": 58,
   "metadata": {
    "scrolled": true
   },
   "outputs": [
    {
     "data": {
      "text/plain": [
       "array([[61, 25, 53],\n",
       "       [30, 28, 37],\n",
       "       [61, 46, 67]])"
      ]
     },
     "execution_count": 58,
     "metadata": {},
     "output_type": "execute_result"
    }
   ],
   "source": [
    "mat_mult(A,B)"
   ]
  },
  {
   "cell_type": "markdown",
   "metadata": {},
   "source": [
    "**Method 2: `np.dot()`**"
   ]
  },
  {
   "cell_type": "code",
   "execution_count": 59,
   "metadata": {},
   "outputs": [
    {
     "data": {
      "text/plain": [
       "array([[61, 25, 53],\n",
       "       [30, 28, 37],\n",
       "       [61, 46, 67]])"
      ]
     },
     "execution_count": 59,
     "metadata": {},
     "output_type": "execute_result"
    }
   ],
   "source": [
    "np.dot(A,B)"
   ]
  },
  {
   "cell_type": "markdown",
   "metadata": {},
   "source": [
    "**Method 3: `np.einsum()`**"
   ]
  },
  {
   "cell_type": "code",
   "execution_count": 60,
   "metadata": {},
   "outputs": [
    {
     "data": {
      "text/plain": [
       "array([[61, 25, 53],\n",
       "       [30, 28, 37],\n",
       "       [61, 46, 67]])"
      ]
     },
     "execution_count": 60,
     "metadata": {},
     "output_type": "execute_result"
    }
   ],
   "source": [
    "np.einsum('ij,jk->ik',A,B)"
   ]
  },
  {
   "cell_type": "markdown",
   "metadata": {},
   "source": [
    "**Method 4: `np.matmul()` - `@`**"
   ]
  },
  {
   "cell_type": "code",
   "execution_count": 61,
   "metadata": {},
   "outputs": [
    {
     "data": {
      "text/plain": [
       "array([[61, 25, 53],\n",
       "       [30, 28, 37],\n",
       "       [61, 46, 67]])"
      ]
     },
     "execution_count": 61,
     "metadata": {},
     "output_type": "execute_result"
    }
   ],
   "source": [
    "A @ B"
   ]
  },
  {
   "cell_type": "markdown",
   "metadata": {},
   "source": [
    "## Cross product of two vectors"
   ]
  },
  {
   "cell_type": "markdown",
   "metadata": {},
   "source": [
    "`np.cross()` accepts 1D vectors, or row vectors represented as `1 x 3` arrays, but not column vectors represented as `3 x 1` arrays by default. We can modify the axis defining the input and output vectors however, which allows us to operate on column vectors represented as `3 x 1` arrays:"
   ]
  },
  {
   "cell_type": "code",
   "execution_count": 71,
   "metadata": {},
   "outputs": [
    {
     "data": {
      "text/plain": [
       "array([[ 3, -1, -5]])"
      ]
     },
     "execution_count": 71,
     "metadata": {},
     "output_type": "execute_result"
    }
   ],
   "source": [
    "np.cross(a, b, axisb=0)"
   ]
  },
  {
   "cell_type": "markdown",
   "metadata": {},
   "source": [
    "## Hadamard product"
   ]
  },
  {
   "cell_type": "code",
   "execution_count": 72,
   "metadata": {},
   "outputs": [
    {
     "data": {
      "text/plain": [
       "array([[12,  0, 21],\n",
       "       [ 0, 21,  8],\n",
       "       [42,  7, 35]])"
      ]
     },
     "execution_count": 72,
     "metadata": {},
     "output_type": "execute_result"
    }
   ],
   "source": [
    "A * B"
   ]
  },
  {
   "cell_type": "markdown",
   "metadata": {},
   "source": [
    "## Kronecker product"
   ]
  },
  {
   "cell_type": "markdown",
   "metadata": {},
   "source": [
    "The outer product on two vectors can be generalised to 2D matrices. For a matrix $A$ with shape `n x m` and a matrix $B$ with shape `p x q`, the Knocker product produces a matrix with shape `np x mq`, and is written as:\n",
    "\n",
    "$$\n",
    "A \\otimes B = \n",
    "\\begin{pmatrix}\n",
    "a_{11}B & \\ldots & a_{1m}B & \\\\\n",
    "\\vdots & \\ddots & \\vdots & \\\\\n",
    "a_{n1}B & \\ldots & a_{nm}B & \\\\\n",
    "\\end{pmatrix}\n",
    "$$\n",
    "\n",
    "Write a function using for loops to perform the Kronecker product:"
   ]
  },
  {
   "cell_type": "code",
   "execution_count": 73,
   "metadata": {
    "code_folding": []
   },
   "outputs": [],
   "source": [
    "def kron_prod(a, b):\n",
    "    \n",
    "    b_nrows = b.shape[0]\n",
    "    b_ncols = b.shape[1]\n",
    "    \n",
    "    c_shape = tuple([i*j for i, j in zip(a.shape, b.shape)])\n",
    "    \n",
    "    if a.dtype is b.dtype:\n",
    "        c_dtype = a.dtype\n",
    "    else:\n",
    "        c_dtype = float\n",
    "        \n",
    "    c = np.empty(c_shape, dtype=c_dtype)\n",
    "    \n",
    "    for i_idx, i in enumerate(a):\n",
    "        for j_idx, j in enumerate(i):\n",
    "            sub_arr = j * b\n",
    "            c[i_idx*b_nrows:(i_idx+1)*b_nrows, j_idx*b_ncols:(j_idx+1)*b_ncols] = sub_arr\n",
    "    \n",
    "    return c"
   ]
  },
  {
   "cell_type": "markdown",
   "metadata": {},
   "source": [
    "**Method 1: `for` loops**"
   ]
  },
  {
   "cell_type": "code",
   "execution_count": 74,
   "metadata": {},
   "outputs": [
    {
     "data": {
      "text/plain": [
       "array([[12, 18, 18,  0,  0,  0, 14, 21, 21],\n",
       "       [ 0, 18, 12,  0,  0,  0,  0, 21, 14],\n",
       "       [42,  6, 30,  0,  0,  0, 49,  7, 35],\n",
       "       [ 2,  3,  3, 14, 21, 21,  8, 12, 12],\n",
       "       [ 0,  3,  2,  0, 21, 14,  0, 12,  8],\n",
       "       [ 7,  1,  5, 49,  7, 35, 28,  4, 20],\n",
       "       [12, 18, 18, 14, 21, 21, 14, 21, 21],\n",
       "       [ 0, 18, 12,  0, 21, 14,  0, 21, 14],\n",
       "       [42,  6, 30, 49,  7, 35, 49,  7, 35]])"
      ]
     },
     "execution_count": 74,
     "metadata": {},
     "output_type": "execute_result"
    }
   ],
   "source": [
    "kron_prod(A,B)"
   ]
  },
  {
   "cell_type": "markdown",
   "metadata": {},
   "source": [
    "**Method 4: `np.kron()`**"
   ]
  },
  {
   "cell_type": "code",
   "execution_count": 75,
   "metadata": {},
   "outputs": [
    {
     "data": {
      "text/plain": [
       "array([[12, 18, 18,  0,  0,  0, 14, 21, 21],\n",
       "       [ 0, 18, 12,  0,  0,  0,  0, 21, 14],\n",
       "       [42,  6, 30,  0,  0,  0, 49,  7, 35],\n",
       "       [ 2,  3,  3, 14, 21, 21,  8, 12, 12],\n",
       "       [ 0,  3,  2,  0, 21, 14,  0, 12,  8],\n",
       "       [ 7,  1,  5, 49,  7, 35, 28,  4, 20],\n",
       "       [12, 18, 18, 14, 21, 21, 14, 21, 21],\n",
       "       [ 0, 18, 12,  0, 21, 14,  0, 21, 14],\n",
       "       [42,  6, 30, 49,  7, 35, 49,  7, 35]])"
      ]
     },
     "execution_count": 75,
     "metadata": {},
     "output_type": "execute_result"
    }
   ],
   "source": [
    "np.kron(A,B)"
   ]
  },
  {
   "cell_type": "markdown",
   "metadata": {},
   "source": [
    "**Method 3: `np.einsum()`**"
   ]
  },
  {
   "cell_type": "code",
   "execution_count": 76,
   "metadata": {},
   "outputs": [
    {
     "name": "stdout",
     "output_type": "stream",
     "text": [
      "[[12 18 18  0  0  0 14 21 21]\n",
      " [ 0 18 12  0  0  0  0 21 14]\n",
      " [42  6 30  0  0  0 49  7 35]\n",
      " [ 2  3  3 14 21 21  8 12 12]\n",
      " [ 0  3  2  0 21 14  0 12  8]\n",
      " [ 7  1  5 49  7 35 28  4 20]\n",
      " [12 18 18 14 21 21 14 21 21]\n",
      " [ 0 18 12  0 21 14  0 21 14]\n",
      " [42  6 30 49  7 35 49  7 35]]\n"
     ]
    }
   ],
   "source": [
    "e = np.einsum('ij,kl->jikl',A,B)\n",
    "E = np.concatenate(np.concatenate(e, axis=2), axis=0)\n",
    "print(E)"
   ]
  },
  {
   "cell_type": "markdown",
   "metadata": {},
   "source": [
    "# Transformations on row and column vectors"
   ]
  },
  {
   "cell_type": "markdown",
   "metadata": {},
   "source": [
    "Numpy only has one type of one-dimensional array and so does not distinguish between row and column vectors. To distinguish, we represent a row vector as an `1 x N` 2D array and a column vector as a `N x 1` 2D array. By convention, column vectors are more widely used in physics.\n",
    "\n",
    "A row vector could be specified like this:"
   ]
  },
  {
   "cell_type": "code",
   "execution_count": 79,
   "metadata": {},
   "outputs": [
    {
     "data": {
      "text/plain": [
       "array([[0, 1, 2]])"
      ]
     },
     "execution_count": 79,
     "metadata": {},
     "output_type": "execute_result"
    }
   ],
   "source": [
    "np.array([[0,1,2]])"
   ]
  },
  {
   "cell_type": "markdown",
   "metadata": {},
   "source": [
    "... and a column vector could be specified like this:"
   ]
  },
  {
   "cell_type": "code",
   "execution_count": 80,
   "metadata": {},
   "outputs": [
    {
     "data": {
      "text/plain": [
       "array([[0],\n",
       "       [1],\n",
       "       [2]])"
      ]
     },
     "execution_count": 80,
     "metadata": {},
     "output_type": "execute_result"
    }
   ],
   "source": [
    "np.array([[0],[1],[2]])"
   ]
  },
  {
   "cell_type": "markdown",
   "metadata": {},
   "source": [
    "... but this is more easily typed like this, where `T` is an alias for the Numpy `transpose()` method:"
   ]
  },
  {
   "cell_type": "code",
   "execution_count": 81,
   "metadata": {},
   "outputs": [
    {
     "data": {
      "text/plain": [
       "array([[0],\n",
       "       [1],\n",
       "       [2]])"
      ]
     },
     "execution_count": 81,
     "metadata": {},
     "output_type": "execute_result"
    }
   ],
   "source": [
    "np.array([[0,1,2]]).T"
   ]
  },
  {
   "cell_type": "markdown",
   "metadata": {},
   "source": [
    "# Vectorised operations"
   ]
  },
  {
   "cell_type": "markdown",
   "metadata": {},
   "source": [
    "## Transform a 2D array of column vectors"
   ]
  },
  {
   "cell_type": "markdown",
   "metadata": {},
   "source": [
    "For a linear transformation matrix $A$ and an array of column vectors $v$, find the transformed vectors $u$:\n",
    "\n",
    "$$u=Av$$\n",
    "\n",
    "Create example arrays:"
   ]
  },
  {
   "cell_type": "code",
   "execution_count": 82,
   "metadata": {},
   "outputs": [
    {
     "name": "stdout",
     "output_type": "stream",
     "text": [
      "A = \n",
      "[[2 2 1]\n",
      " [3 3 0]\n",
      " [2 3 1]]\n",
      "\n",
      "v = \n",
      "[[7 6 4 7 7]\n",
      " [2 3 5 1 4]\n",
      " [3 7 0 7 0]]\n",
      "\n"
     ]
    }
   ],
   "source": [
    "A = np.random.randint(-1,4,(3,3))\n",
    "v = np.random.randint(0,9,(3,5))\n",
    "\n",
    "print('A = \\n{}\\n'.format(A))\n",
    "print('v = \\n{}\\n'.format(v))"
   ]
  },
  {
   "cell_type": "markdown",
   "metadata": {},
   "source": [
    "In this case, Numpy's implicit broadcasting is sufficient to use both `np.dot()` and `np.matmul()`."
   ]
  },
  {
   "cell_type": "markdown",
   "metadata": {},
   "source": [
    "**Method 1: `np.dot()`**"
   ]
  },
  {
   "cell_type": "code",
   "execution_count": 83,
   "metadata": {
    "code_folding": []
   },
   "outputs": [
    {
     "data": {
      "text/plain": [
       "array([[21, 25, 18, 23, 22],\n",
       "       [27, 27, 27, 24, 33],\n",
       "       [23, 28, 23, 24, 26]])"
      ]
     },
     "execution_count": 83,
     "metadata": {},
     "output_type": "execute_result"
    }
   ],
   "source": [
    "np.dot(A,v)"
   ]
  },
  {
   "cell_type": "markdown",
   "metadata": {},
   "source": [
    "**Method 2: `np.einsum()`**"
   ]
  },
  {
   "cell_type": "code",
   "execution_count": 84,
   "metadata": {},
   "outputs": [
    {
     "data": {
      "text/plain": [
       "array([[21, 25, 18, 23, 22],\n",
       "       [27, 27, 27, 24, 33],\n",
       "       [23, 28, 23, 24, 26]])"
      ]
     },
     "execution_count": 84,
     "metadata": {},
     "output_type": "execute_result"
    }
   ],
   "source": [
    "np.einsum('ij,jk->ik',A,v)"
   ]
  },
  {
   "cell_type": "markdown",
   "metadata": {},
   "source": [
    "**Method 3: `np.matmul()` - `@`**"
   ]
  },
  {
   "cell_type": "code",
   "execution_count": 85,
   "metadata": {},
   "outputs": [
    {
     "data": {
      "text/plain": [
       "array([[21, 25, 18, 23, 22],\n",
       "       [27, 27, 27, 24, 33],\n",
       "       [23, 28, 23, 24, 26]])"
      ]
     },
     "execution_count": 85,
     "metadata": {},
     "output_type": "execute_result"
    }
   ],
   "source": [
    "A @ v"
   ]
  },
  {
   "cell_type": "markdown",
   "metadata": {
    "collapsed": true
   },
   "source": [
    "## Transform a 3D array of column vectors"
   ]
  },
  {
   "cell_type": "markdown",
   "metadata": {},
   "source": [
    "Creat example vectors array:"
   ]
  },
  {
   "cell_type": "code",
   "execution_count": 86,
   "metadata": {},
   "outputs": [
    {
     "name": "stdout",
     "output_type": "stream",
     "text": [
      "v = \n",
      "[[[5 0 7 0 3]\n",
      "  [5 6 8 5 1]\n",
      "  [6 7 7 1 4]]\n",
      "\n",
      " [[6 3 8 5 3]\n",
      "  [1 4 4 1 5]\n",
      "  [7 1 7 7 5]]]\n",
      "\n",
      "u_0 = \n",
      "[[26 19 37 11 12]\n",
      " [30 18 45 15 12]\n",
      " [31 25 45 16 13]]\n",
      "\n"
     ]
    }
   ],
   "source": [
    "v = np.random.randint(0,9,(2,3,5))\n",
    "print('v = \\n{}\\n'.format(v))\n",
    "\n",
    "# Let's get the first layer for checking other methods:\n",
    "u_0 = np.dot(A, v[0])\n",
    "print('u_0 = \\n{}\\n'.format(u_0))"
   ]
  },
  {
   "cell_type": "markdown",
   "metadata": {},
   "source": [
    "**Method 1: `np.dot()`**"
   ]
  },
  {
   "cell_type": "code",
   "execution_count": 87,
   "metadata": {},
   "outputs": [
    {
     "data": {
      "text/plain": [
       "array([[[26, 19, 37, 11, 12],\n",
       "        [30, 18, 45, 15, 12],\n",
       "        [31, 25, 45, 16, 13]],\n",
       "\n",
       "       [[21, 15, 31, 19, 21],\n",
       "        [21, 21, 36, 18, 24],\n",
       "        [22, 19, 35, 20, 26]]])"
      ]
     },
     "execution_count": 87,
     "metadata": {},
     "output_type": "execute_result"
    }
   ],
   "source": [
    "np.dot(A,v).swapaxes(0,1)"
   ]
  },
  {
   "cell_type": "markdown",
   "metadata": {},
   "source": [
    "For `np.dot()`, we have to swap axes to get the original shape."
   ]
  },
  {
   "cell_type": "markdown",
   "metadata": {},
   "source": [
    "**Method 2: `np.einsum()`**"
   ]
  },
  {
   "cell_type": "code",
   "execution_count": 88,
   "metadata": {},
   "outputs": [
    {
     "data": {
      "text/plain": [
       "array([[[26, 19, 37, 11, 12],\n",
       "        [30, 18, 45, 15, 12],\n",
       "        [31, 25, 45, 16, 13]],\n",
       "\n",
       "       [[21, 15, 31, 19, 21],\n",
       "        [21, 21, 36, 18, 24],\n",
       "        [22, 19, 35, 20, 26]]])"
      ]
     },
     "execution_count": 88,
     "metadata": {},
     "output_type": "execute_result"
    }
   ],
   "source": [
    "np.einsum('ij,kjl->kil', A, v)"
   ]
  },
  {
   "cell_type": "markdown",
   "metadata": {},
   "source": [
    "**Method 3: `np.matmul()` - `@`**"
   ]
  },
  {
   "cell_type": "code",
   "execution_count": 89,
   "metadata": {},
   "outputs": [
    {
     "data": {
      "text/plain": [
       "array([[[26, 19, 37, 11, 12],\n",
       "        [30, 18, 45, 15, 12],\n",
       "        [31, 25, 45, 16, 13]],\n",
       "\n",
       "       [[21, 15, 31, 19, 21],\n",
       "        [21, 21, 36, 18, 24],\n",
       "        [22, 19, 35, 20, 26]]])"
      ]
     },
     "execution_count": 89,
     "metadata": {},
     "output_type": "execute_result"
    }
   ],
   "source": [
    "A @ v"
   ]
  },
  {
   "cell_type": "markdown",
   "metadata": {},
   "source": [
    "`np.matmul()` and `np.einsum()` are clearly the cleaner solutions."
   ]
  },
  {
   "cell_type": "markdown",
   "metadata": {},
   "source": [
    "## Transform a 4D array of column vectors"
   ]
  },
  {
   "cell_type": "markdown",
   "metadata": {},
   "source": [
    "Creat example vectors array:"
   ]
  },
  {
   "cell_type": "code",
   "execution_count": 90,
   "metadata": {},
   "outputs": [
    {
     "name": "stdout",
     "output_type": "stream",
     "text": [
      "v = \n",
      "[[[[2 2 5 5 4]\n",
      "   [4 5 8 4 5]\n",
      "   [0 7 2 0 4]]\n",
      "\n",
      "  [[8 7 4 0 7]\n",
      "   [8 8 7 1 0]\n",
      "   [3 5 0 7 6]]]\n",
      "\n",
      "\n",
      " [[[5 7 7 1 5]\n",
      "   [8 4 6 8 3]\n",
      "   [0 8 5 5 6]]\n",
      "\n",
      "  [[8 1 7 8 5]\n",
      "   [4 6 2 8 1]\n",
      "   [5 1 1 1 4]]]]\n",
      "\n",
      "u_0 = \n",
      "[[12 21 28 18 22]\n",
      " [18 21 39 27 27]\n",
      " [16 26 36 22 27]]\n",
      "\n"
     ]
    }
   ],
   "source": [
    "v = np.random.randint(0,9,(2,2,3,5))\n",
    "print('v = \\n{}\\n'.format(v))\n",
    "\n",
    "# Let's get the first layer for checking other methods:\n",
    "u_0 = np.dot(A, v[0,0])\n",
    "print('u_0 = \\n{}\\n'.format(u_0))"
   ]
  },
  {
   "cell_type": "markdown",
   "metadata": {},
   "source": [
    "**Method 1: `np.dot()`**"
   ]
  },
  {
   "cell_type": "code",
   "execution_count": 91,
   "metadata": {},
   "outputs": [
    {
     "data": {
      "text/plain": [
       "array([[[[12, 21, 28, 18, 22],\n",
       "         [18, 21, 39, 27, 27],\n",
       "         [16, 26, 36, 22, 27]],\n",
       "\n",
       "        [[26, 30, 31, 23, 22],\n",
       "         [39, 33, 39, 27, 24],\n",
       "         [34, 34, 37, 31, 25]]],\n",
       "\n",
       "\n",
       "       [[[35, 35, 22,  9, 20],\n",
       "         [48, 45, 33,  3, 21],\n",
       "         [43, 43, 29, 10, 20]],\n",
       "\n",
       "        [[29, 15, 19, 33, 16],\n",
       "         [36, 21, 27, 48, 18],\n",
       "         [33, 21, 21, 41, 17]]]])"
      ]
     },
     "execution_count": 91,
     "metadata": {},
     "output_type": "execute_result"
    }
   ],
   "source": [
    "np.dot(A,v).swapaxes(0,2)"
   ]
  },
  {
   "cell_type": "markdown",
   "metadata": {},
   "source": [
    "Again, for `np.dot()`, we have to swap axes to get the original shape."
   ]
  },
  {
   "cell_type": "markdown",
   "metadata": {},
   "source": [
    "**Method 2: `np.einsum()`**"
   ]
  },
  {
   "cell_type": "code",
   "execution_count": 92,
   "metadata": {},
   "outputs": [
    {
     "data": {
      "text/plain": [
       "array([[[[12, 21, 28, 18, 22],\n",
       "         [18, 21, 39, 27, 27],\n",
       "         [16, 26, 36, 22, 27]],\n",
       "\n",
       "        [[35, 35, 22,  9, 20],\n",
       "         [48, 45, 33,  3, 21],\n",
       "         [43, 43, 29, 10, 20]]],\n",
       "\n",
       "\n",
       "       [[[26, 30, 31, 23, 22],\n",
       "         [39, 33, 39, 27, 24],\n",
       "         [34, 34, 37, 31, 25]],\n",
       "\n",
       "        [[29, 15, 19, 33, 16],\n",
       "         [36, 21, 27, 48, 18],\n",
       "         [33, 21, 21, 41, 17]]]])"
      ]
     },
     "execution_count": 92,
     "metadata": {},
     "output_type": "execute_result"
    }
   ],
   "source": [
    "np.einsum('ij,kljm->klim', A, v)"
   ]
  },
  {
   "cell_type": "markdown",
   "metadata": {},
   "source": [
    "**Method 3: `np.matmul()` - `@`**"
   ]
  },
  {
   "cell_type": "code",
   "execution_count": 93,
   "metadata": {},
   "outputs": [
    {
     "data": {
      "text/plain": [
       "array([[[[12, 21, 28, 18, 22],\n",
       "         [18, 21, 39, 27, 27],\n",
       "         [16, 26, 36, 22, 27]],\n",
       "\n",
       "        [[35, 35, 22,  9, 20],\n",
       "         [48, 45, 33,  3, 21],\n",
       "         [43, 43, 29, 10, 20]]],\n",
       "\n",
       "\n",
       "       [[[26, 30, 31, 23, 22],\n",
       "         [39, 33, 39, 27, 24],\n",
       "         [34, 34, 37, 31, 25]],\n",
       "\n",
       "        [[29, 15, 19, 33, 16],\n",
       "         [36, 21, 27, 48, 18],\n",
       "         [33, 21, 21, 41, 17]]]])"
      ]
     },
     "execution_count": 93,
     "metadata": {},
     "output_type": "execute_result"
    }
   ],
   "source": [
    "A @ v"
   ]
  },
  {
   "cell_type": "markdown",
   "metadata": {},
   "source": [
    "Again, `np.matmul()` and `np.einsum()` are the best solutions. Where possible, `np.matmul()` is preferable since the syntax is so simple for this situation. From the `np.matmul()` docs: \n",
    "\n",
    "> If either argument is N-D, N > 2, it is treated as a stack of matrices residing in the last two indexes and broadcast accordingly."
   ]
  },
  {
   "cell_type": "code",
   "execution_count": 94,
   "metadata": {},
   "outputs": [
    {
     "data": {
      "text/plain": [
       "'1.14.3'"
      ]
     },
     "execution_count": 94,
     "metadata": {},
     "output_type": "execute_result"
    }
   ],
   "source": [
    "np.version.version"
   ]
  },
  {
   "cell_type": "markdown",
   "metadata": {},
   "source": [
    "## Broadcasting the cross product (2D)"
   ]
  },
  {
   "cell_type": "markdown",
   "metadata": {},
   "source": [
    "Create example arrays:"
   ]
  },
  {
   "cell_type": "code",
   "execution_count": 95,
   "metadata": {},
   "outputs": [
    {
     "name": "stdout",
     "output_type": "stream",
     "text": [
      "a = \n",
      "[[-3]\n",
      " [-4]\n",
      " [ 1]]\n",
      "\n",
      "B = \n",
      "[[-1 -1  1 -2 -1]\n",
      " [-3  1  2 -3  0]\n",
      " [ 0 -2  1 -4 -2]]\n",
      "\n",
      "c = \n",
      "[[ 3]\n",
      " [-1]\n",
      " [ 5]]\n",
      "\n"
     ]
    }
   ],
   "source": [
    "a = np.random.randint(-4,4,(3,1))\n",
    "B = np.random.randint(-4,4,(3,5))\n",
    "\n",
    "print('a = \\n{}\\n'.format(a))\n",
    "print('B = \\n{}\\n'.format(B))\n",
    "\n",
    "# Let's find the cross product of the first vector so we can check subsequent operations:\n",
    "c = np.cross(a, B[:,0], axis=0)\n",
    "print('c = \\n{}\\n'.format(c))"
   ]
  },
  {
   "cell_type": "code",
   "execution_count": 96,
   "metadata": {},
   "outputs": [
    {
     "data": {
      "text/plain": [
       "array([[  3,   7,  -6,  19,   8],\n",
       "       [ -1,  -7,   4, -14,  -7],\n",
       "       [  5,  -7,  -2,   1,  -4]])"
      ]
     },
     "execution_count": 96,
     "metadata": {},
     "output_type": "execute_result"
    }
   ],
   "source": [
    "np.cross(a, B, axis=0)"
   ]
  },
  {
   "cell_type": "code",
   "execution_count": 97,
   "metadata": {},
   "outputs": [
    {
     "data": {
      "text/plain": [
       "array([[ -3,  -7,   6, -19,  -8],\n",
       "       [  1,   7,  -4,  14,   7],\n",
       "       [ -5,   7,   2,  -1,   4]])"
      ]
     },
     "execution_count": 97,
     "metadata": {},
     "output_type": "execute_result"
    }
   ],
   "source": [
    "np.cross(B, a, axis=0)"
   ]
  },
  {
   "cell_type": "markdown",
   "metadata": {},
   "source": [
    "## Broadcasting the cross product (3D)"
   ]
  },
  {
   "cell_type": "markdown",
   "metadata": {},
   "source": [
    "Create example arrays:"
   ]
  },
  {
   "cell_type": "code",
   "execution_count": 98,
   "metadata": {},
   "outputs": [
    {
     "name": "stdout",
     "output_type": "stream",
     "text": [
      "a = \n",
      "[[-2]\n",
      " [-3]\n",
      " [ 0]]\n",
      "\n",
      "B = \n",
      "[[[-4 -3  1  3  0]\n",
      "  [ 3  0  2 -2  0]\n",
      "  [-2  1  0  0  1]]\n",
      "\n",
      " [[-4  0  3  0  2]\n",
      "  [-4 -4  3 -1 -4]\n",
      "  [ 3 -4  1 -3 -3]]]\n",
      "\n",
      "c = \n",
      "[[  6]\n",
      " [ -4]\n",
      " [-18]]\n",
      "\n"
     ]
    }
   ],
   "source": [
    "a = np.random.randint(-4,4,(3,1))\n",
    "B = np.random.randint(-4,4,(2,3,5))\n",
    "\n",
    "print('a = \\n{}\\n'.format(a))\n",
    "print('B = \\n{}\\n'.format(B))\n",
    "\n",
    "# Let's find the cross product of the first vector so we can check subsequent operations:\n",
    "c = np.cross(a, B[0,:,0], axis=0)\n",
    "print('c = \\n{}\\n'.format(c))"
   ]
  },
  {
   "cell_type": "markdown",
   "metadata": {},
   "source": [
    "To broadcast correctly, we need to specify the axes for both input and output arrays:"
   ]
  },
  {
   "cell_type": "code",
   "execution_count": 99,
   "metadata": {},
   "outputs": [
    {
     "data": {
      "text/plain": [
       "array([[[  6,  -3,   0,   0,  -3],\n",
       "        [ -4,   2,   0,   0,   2],\n",
       "        [-18,  -9,  -1,  13,   0]],\n",
       "\n",
       "       [[ -9,  12,  -3,   9,   9],\n",
       "        [  6,  -8,   2,  -6,  -6],\n",
       "        [ -4,   8,   3,   2,  14]]])"
      ]
     },
     "execution_count": 99,
     "metadata": {},
     "output_type": "execute_result"
    }
   ],
   "source": [
    "np.cross(a, B, axisa=0, axisb=1, axisc=1)"
   ]
  },
  {
   "cell_type": "code",
   "execution_count": 100,
   "metadata": {},
   "outputs": [
    {
     "data": {
      "text/plain": [
       "array([[[ -6,   3,   0,   0,   3],\n",
       "        [  4,  -2,   0,   0,  -2],\n",
       "        [ 18,   9,   1, -13,   0]],\n",
       "\n",
       "       [[  9, -12,   3,  -9,  -9],\n",
       "        [ -6,   8,  -2,   6,   6],\n",
       "        [  4,  -8,  -3,  -2, -14]]])"
      ]
     },
     "execution_count": 100,
     "metadata": {},
     "output_type": "execute_result"
    }
   ],
   "source": [
    "np.cross(B, a, axisa=1, axisb=0, axisc=1)"
   ]
  },
  {
   "cell_type": "markdown",
   "metadata": {},
   "source": [
    "Alternatively, we can fist ensure `a` and `B` have the same dimension. Then broadcasting will be correct without specifying different axes for input and output arrays:"
   ]
  },
  {
   "cell_type": "code",
   "execution_count": 101,
   "metadata": {},
   "outputs": [
    {
     "name": "stdout",
     "output_type": "stream",
     "text": [
      "a_1 = \n",
      "[[[-2]\n",
      "  [-3]\n",
      "  [ 0]]]\n",
      "\n"
     ]
    }
   ],
   "source": [
    "a_1 = a[np.newaxis]\n",
    "print('a_1 = \\n{}\\n'.format(a_1))"
   ]
  },
  {
   "cell_type": "code",
   "execution_count": 102,
   "metadata": {},
   "outputs": [
    {
     "data": {
      "text/plain": [
       "array([[[  6,  -3,   0,   0,  -3],\n",
       "        [ -4,   2,   0,   0,   2],\n",
       "        [-18,  -9,  -1,  13,   0]],\n",
       "\n",
       "       [[ -9,  12,  -3,   9,   9],\n",
       "        [  6,  -8,   2,  -6,  -6],\n",
       "        [ -4,   8,   3,   2,  14]]])"
      ]
     },
     "execution_count": 102,
     "metadata": {},
     "output_type": "execute_result"
    }
   ],
   "source": [
    "np.cross(a_1, B, axis=1)"
   ]
  },
  {
   "cell_type": "markdown",
   "metadata": {},
   "source": [
    "## Column-wise dot product (2D)"
   ]
  },
  {
   "cell_type": "markdown",
   "metadata": {},
   "source": [
    "Given two 2D arrays of column vectors of identical shape, find the dot product of each column of the first array with its correpsonding column in the second array.\n",
    "\n",
    "Create example arrays:"
   ]
  },
  {
   "cell_type": "code",
   "execution_count": 103,
   "metadata": {},
   "outputs": [
    {
     "name": "stdout",
     "output_type": "stream",
     "text": [
      "v1 = \n",
      "[[-2  3 -2  3 -1]\n",
      " [-1  1  1  3  3]\n",
      " [ 2 -2  0  2  3]]\n",
      "\n",
      "v2 = \n",
      "[[ 3  0 -1  2  2]\n",
      " [-2 -1  2  0 -2]\n",
      " [ 0  1  3  2  0]]\n",
      "\n"
     ]
    }
   ],
   "source": [
    "v1 = np.random.randint(-2,4,(3,5))\n",
    "v2 = np.random.randint(-2,4,(3,5))\n",
    "\n",
    "print('v1 = \\n{}\\n'.format(v1))\n",
    "print('v2 = \\n{}\\n'.format(v2))"
   ]
  },
  {
   "cell_type": "markdown",
   "metadata": {},
   "source": [
    "**Method 1: `*` and `np.sum()`**"
   ]
  },
  {
   "cell_type": "code",
   "execution_count": 104,
   "metadata": {},
   "outputs": [
    {
     "data": {
      "text/plain": [
       "array([-4, -3,  4, 10, -8])"
      ]
     },
     "execution_count": 104,
     "metadata": {},
     "output_type": "execute_result"
    }
   ],
   "source": [
    "np.sum(v1 * v2, axis=0)"
   ]
  },
  {
   "cell_type": "markdown",
   "metadata": {},
   "source": [
    "**Method 2: `np.einsum()`**"
   ]
  },
  {
   "cell_type": "code",
   "execution_count": 105,
   "metadata": {},
   "outputs": [
    {
     "data": {
      "text/plain": [
       "array([-4, -3,  4, 10, -8])"
      ]
     },
     "execution_count": 105,
     "metadata": {},
     "output_type": "execute_result"
    }
   ],
   "source": [
    "np.einsum('ij,ij->j',v1,v2)"
   ]
  },
  {
   "cell_type": "markdown",
   "metadata": {},
   "source": [
    "## Column-wise dot product (3D)"
   ]
  },
  {
   "cell_type": "markdown",
   "metadata": {},
   "source": [
    "Given two 3D arrays of column vectors of identical shape, find the dot product of each column of the first array with its correpsonding column in the second array.\n",
    "\n",
    "Create example arrays:"
   ]
  },
  {
   "cell_type": "code",
   "execution_count": 106,
   "metadata": {},
   "outputs": [
    {
     "name": "stdout",
     "output_type": "stream",
     "text": [
      "v1 = \n",
      "[[[ 2  2 -2  3 -2]\n",
      "  [ 1 -1  0  1  3]\n",
      "  [ 3  2 -2  2 -1]]\n",
      "\n",
      " [[-1  0  3  2  1]\n",
      "  [ 1  1  0 -2  0]\n",
      "  [ 1  0  0  3  2]]]\n",
      "\n",
      "v2 = \n",
      "[[[ 3  1  0  3  1]\n",
      "  [-2  0  1  2  2]\n",
      "  [ 0 -2  1  2 -2]]\n",
      "\n",
      " [[ 1 -2 -2 -2 -2]\n",
      "  [ 3 -2  2  1  2]\n",
      "  [-2  2  0  2  2]]]\n",
      "\n"
     ]
    }
   ],
   "source": [
    "v1 = np.random.randint(-2,4,(2,3,5))\n",
    "v2 = np.random.randint(-2,4,(2,3,5))\n",
    "\n",
    "print('v1 = \\n{}\\n'.format(v1))\n",
    "print('v2 = \\n{}\\n'.format(v2))"
   ]
  },
  {
   "cell_type": "markdown",
   "metadata": {},
   "source": [
    "**Method 1: `*` and `np.sum()`**"
   ]
  },
  {
   "cell_type": "code",
   "execution_count": 107,
   "metadata": {},
   "outputs": [
    {
     "data": {
      "text/plain": [
       "array([[ 4, -2, -2, 15,  6],\n",
       "       [ 0, -2, -6,  0,  2]])"
      ]
     },
     "execution_count": 107,
     "metadata": {},
     "output_type": "execute_result"
    }
   ],
   "source": [
    "np.sum(v1 * v2, axis=1)"
   ]
  },
  {
   "cell_type": "markdown",
   "metadata": {},
   "source": [
    "**Method 2: `np.einsum()`**"
   ]
  },
  {
   "cell_type": "code",
   "execution_count": 108,
   "metadata": {},
   "outputs": [
    {
     "data": {
      "text/plain": [
       "array([[ 4, -2, -2, 15,  6],\n",
       "       [ 0, -2, -6,  0,  2]])"
      ]
     },
     "execution_count": 108,
     "metadata": {},
     "output_type": "execute_result"
    }
   ],
   "source": [
    "np.einsum('ijk,ijk->ik',v1,v2)"
   ]
  },
  {
   "cell_type": "markdown",
   "metadata": {},
   "source": [
    "## Column-wise cross product (2D)"
   ]
  },
  {
   "cell_type": "markdown",
   "metadata": {},
   "source": [
    "Create example arrays:"
   ]
  },
  {
   "cell_type": "code",
   "execution_count": 109,
   "metadata": {},
   "outputs": [
    {
     "name": "stdout",
     "output_type": "stream",
     "text": [
      "A = \n",
      "[[-2  3 -1  2 -3]\n",
      " [ 0  2 -2  0 -3]\n",
      " [ 3  2  2 -2 -3]]\n",
      "\n",
      "B = \n",
      "[[ 0  2 -2  1 -4]\n",
      " [ 0 -3 -4 -3 -1]\n",
      " [-2  1  0  1 -4]]\n",
      "\n",
      "c = \n",
      "[[ 0]\n",
      " [-4]\n",
      " [ 0]]\n",
      "\n"
     ]
    }
   ],
   "source": [
    "A = np.random.randint(-4,4,(3,5))\n",
    "B = np.random.randint(-4,4,(3,5))\n",
    "\n",
    "print('A = \\n{}\\n'.format(A))\n",
    "print('B = \\n{}\\n'.format(B))\n",
    "\n",
    "# Let's find the cross product of the first vector so we can check subsequent operations:\n",
    "c = np.cross(A[:,0:1], B[:,0:1], axis=0)\n",
    "print('c = \\n{}\\n'.format(c))"
   ]
  },
  {
   "cell_type": "code",
   "execution_count": 110,
   "metadata": {},
   "outputs": [
    {
     "data": {
      "text/plain": [
       "array([[  0,   8,   8,  -6,   9],\n",
       "       [ -4,   1,  -4,  -4,   0],\n",
       "       [  0, -13,   0,  -6,  -9]])"
      ]
     },
     "execution_count": 110,
     "metadata": {},
     "output_type": "execute_result"
    }
   ],
   "source": [
    "np.cross(A, B, axis=0)"
   ]
  },
  {
   "cell_type": "markdown",
   "metadata": {},
   "source": [
    "## Column-wise cross product (3D)"
   ]
  },
  {
   "cell_type": "markdown",
   "metadata": {},
   "source": [
    "Create example arrays:"
   ]
  },
  {
   "cell_type": "code",
   "execution_count": 111,
   "metadata": {},
   "outputs": [
    {
     "name": "stdout",
     "output_type": "stream",
     "text": [
      "A = \n",
      "[[[-1  0  1  1 -1]\n",
      "  [-1  0 -2  2  2]\n",
      "  [-1  0 -3  1  1]]\n",
      "\n",
      " [[ 2 -4  0  1 -1]\n",
      "  [-4  0  1  0  0]\n",
      "  [ 2 -3 -1 -4  2]]]\n",
      "\n",
      "B = \n",
      "[[[-3 -2  3 -4  2]\n",
      "  [ 2  3  3 -1 -4]\n",
      "  [-1 -1 -2  2  0]]\n",
      "\n",
      " [[-1 -3  3  2 -4]\n",
      "  [ 0  2  0  1 -2]\n",
      "  [-4  3  0 -2  1]]]\n",
      "\n",
      "c = \n",
      "[[ 3]\n",
      " [ 2]\n",
      " [-5]]\n",
      "\n"
     ]
    }
   ],
   "source": [
    "A = np.random.randint(-4,4,(2,3,5))\n",
    "B = np.random.randint(-4,4,(2,3,5))\n",
    "\n",
    "print('A = \\n{}\\n'.format(A))\n",
    "print('B = \\n{}\\n'.format(B))\n",
    "\n",
    "# Let's find the cross product of the first vector so we can check subsequent operations:\n",
    "c = np.cross(A[0,:,0:1], B[0,:,0:1], axis=0)\n",
    "print('c = \\n{}\\n'.format(c))"
   ]
  },
  {
   "cell_type": "code",
   "execution_count": 112,
   "metadata": {},
   "outputs": [
    {
     "data": {
      "text/plain": [
       "array([[[ 3,  0, 13,  5,  4],\n",
       "        [ 2,  0, -7, -6,  2],\n",
       "        [-5,  0,  9,  7,  0]],\n",
       "\n",
       "       [[16,  6,  0,  4,  4],\n",
       "        [ 6, 21, -3, -6, -7],\n",
       "        [-4, -8, -3,  1,  2]]])"
      ]
     },
     "execution_count": 112,
     "metadata": {},
     "output_type": "execute_result"
    }
   ],
   "source": [
    "np.cross(A, B, axis=1)"
   ]
  },
  {
   "cell_type": "markdown",
   "metadata": {},
   "source": [
    "## Column pair dot product"
   ]
  },
  {
   "cell_type": "markdown",
   "metadata": {},
   "source": [
    "Given a single array of shape `N x m x 2`, return a 1D array of length `N` whose elements are the dot products between length `m` column vector pairs.\n",
    "\n",
    "Create example arrays:"
   ]
  },
  {
   "cell_type": "code",
   "execution_count": 113,
   "metadata": {},
   "outputs": [
    {
     "name": "stdout",
     "output_type": "stream",
     "text": [
      "p1 = \n",
      "[[[ 3  0]\n",
      "  [ 3  2]\n",
      "  [ 1  0]]\n",
      "\n",
      " [[ 0  0]\n",
      "  [-1 -1]\n",
      "  [ 0  0]]\n",
      "\n",
      " [[ 3 -2]\n",
      "  [-1 -2]\n",
      "  [ 2  0]]\n",
      "\n",
      " [[-2  1]\n",
      "  [ 0  3]\n",
      "  [-2 -2]]\n",
      "\n",
      " [[ 2 -2]\n",
      "  [ 2  0]\n",
      "  [ 2  1]]]\n",
      "\n"
     ]
    }
   ],
   "source": [
    "p1 = np.random.randint(-2,4,(5,3,2))\n",
    "print('p1 = \\n{}\\n'.format(p1))"
   ]
  },
  {
   "cell_type": "markdown",
   "metadata": {},
   "source": [
    "**Method 1: `*` and `np.sum()`**"
   ]
  },
  {
   "cell_type": "code",
   "execution_count": 114,
   "metadata": {},
   "outputs": [
    {
     "data": {
      "text/plain": [
       "array([ 6,  1, -4,  2, -2])"
      ]
     },
     "execution_count": 114,
     "metadata": {},
     "output_type": "execute_result"
    }
   ],
   "source": [
    "np.sum(p1[:,:,0] * p1[:,:,1], axis=1)"
   ]
  },
  {
   "cell_type": "markdown",
   "metadata": {},
   "source": [
    "**Method 2: `np.einsum()`**"
   ]
  },
  {
   "cell_type": "code",
   "execution_count": 115,
   "metadata": {},
   "outputs": [
    {
     "data": {
      "text/plain": [
       "array([ 6,  1, -4,  2, -2])"
      ]
     },
     "execution_count": 115,
     "metadata": {},
     "output_type": "execute_result"
    }
   ],
   "source": [
    "np.einsum('ij,ij->i',p1[:,:,0],p1[:,:,1])"
   ]
  },
  {
   "cell_type": "markdown",
   "metadata": {},
   "source": [
    "It probably makes more sense to keep this sort of data in an array of shape `2 x m x N` instead:"
   ]
  },
  {
   "cell_type": "code",
   "execution_count": 116,
   "metadata": {},
   "outputs": [
    {
     "name": "stdout",
     "output_type": "stream",
     "text": [
      "p2 = \n",
      "[[[ 3  0 -1  3 -1]\n",
      "  [-2 -1  3 -1 -1]\n",
      "  [ 1  2  3  3  0]]\n",
      "\n",
      " [[ 2 -2 -1 -2  0]\n",
      "  [ 1  3 -1  0  3]\n",
      "  [ 3  0 -2  0  0]]]\n",
      "\n"
     ]
    }
   ],
   "source": [
    "p2 = np.random.randint(-2,4,(2,3,5))\n",
    "print('p2 = \\n{}\\n'.format(p2))"
   ]
  },
  {
   "cell_type": "code",
   "execution_count": 117,
   "metadata": {},
   "outputs": [
    {
     "data": {
      "text/plain": [
       "array([ 7, -3, -8, -6, -3])"
      ]
     },
     "execution_count": 117,
     "metadata": {},
     "output_type": "execute_result"
    }
   ],
   "source": [
    "np.sum(p2[0] * p2[1], axis=0)"
   ]
  },
  {
   "cell_type": "code",
   "execution_count": 118,
   "metadata": {},
   "outputs": [
    {
     "data": {
      "text/plain": [
       "array([ 7, -3, -8, -6, -3])"
      ]
     },
     "execution_count": 118,
     "metadata": {},
     "output_type": "execute_result"
    }
   ],
   "source": [
    "np.einsum('ij,ij->j',p2[0],p2[1])"
   ]
  }
 ],
 "metadata": {
  "anaconda-cloud": {},
  "hide_input": false,
  "kernelspec": {
   "display_name": "Python 3",
   "language": "python",
   "name": "python3"
  },
  "language_info": {
   "codemirror_mode": {
    "name": "ipython",
    "version": 3
   },
   "file_extension": ".py",
   "mimetype": "text/x-python",
   "name": "python",
   "nbconvert_exporter": "python",
   "pygments_lexer": "ipython3",
   "version": "3.5.5"
  },
  "toc": {
   "navigate_menu": false,
   "number_sections": true,
   "sideBar": true,
   "threshold": 6,
   "toc_cell": false,
   "toc_position": {
    "height": "814px",
    "left": "0px",
    "right": "1382px",
    "top": "106px",
    "width": "298px"
   },
   "toc_section_display": "block",
   "toc_window_display": true
  },
  "toc_position": {
   "height": "943px",
   "left": "0px",
   "right": "auto",
   "top": "107px",
   "width": "314px"
  }
 },
 "nbformat": 4,
 "nbformat_minor": 1
}
